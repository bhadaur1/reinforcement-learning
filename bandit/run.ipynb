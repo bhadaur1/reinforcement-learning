{
 "cells": [
  {
   "cell_type": "code",
   "execution_count": null,
   "metadata": {},
   "outputs": [],
   "source": [
    "import numpy as np\n",
    "from testbed import TestBed\n",
    "from epsilon_greedy import EpsilonGreedy\n",
    "from joblib import Parallel, delayed\n",
    "import matplotlib.pyplot as plt\n",
    "import pandas as pd\n",
    "import seaborn as sns"
   ]
  },
  {
   "cell_type": "code",
   "execution_count": null,
   "metadata": {},
   "outputs": [],
   "source": [
    "testbed10 = TestBed(10, 1993)\n",
    "dist = [testbed10.get_dist(i, size=50000) for i in range(10)]\n",
    "beds = [np.full_like(dist[i], f\"b{i}\", dtype=object) for i in range(10)]\n",
    "df = pd.DataFrame({\"beds\": np.concatenate(beds), \"dist\": np.concatenate(dist)})\n",
    "sns.violinplot(x=df[\"beds\"], y=df[\"dist\"], width=0.5, saturation=0.9)"
   ]
  },
  {
   "cell_type": "code",
   "execution_count": null,
   "metadata": {},
   "outputs": [],
   "source": [
    "def do_single_run(num_bandits, steps, epsilon, alpha, seed1, seed2):\n",
    "  testbed = TestBed(num_bandits, seed1)\n",
    "  epg = EpsilonGreedy(epsilon, testbed, alpha, seed2)\n",
    "  return epg.run(steps, 10000)\n",
    "\n",
    "def avg_runs(num_bandits, num_runs, steps, epsilon, alpha, seed, workers=1):\n",
    "  rng = np.random.default_rng(seed)\n",
    "  rewards = Parallel(n_jobs=workers)(delayed(do_single_run)(num_bandits, steps, epsilon, alpha, rng.integers(10000), rng.integers(10000)) for _ in range(num_runs))\n",
    "  return np.mean(np.array(rewards), axis=0)"
   ]
  },
  {
   "cell_type": "code",
   "execution_count": null,
   "metadata": {},
   "outputs": [],
   "source": [
    "rewards_epsi_0_1 = avg_runs(num_bandits=10, num_runs=2000, steps=10000, epsilon=0.1, alpha=0.01, seed=1993, workers=5)\n",
    "rewards_epsi_0_01 = avg_runs(num_bandits=10, num_runs=2000, steps=10000, epsilon=0.01, alpha=0.01, seed=1993, workers=5)\n",
    "rewards_epsi_0 = avg_runs(num_bandits=10, num_runs=2000, steps=10000, epsilon=0, alpha=0.01, seed=1993, workers=5)"
   ]
  },
  {
   "cell_type": "code",
   "execution_count": null,
   "metadata": {},
   "outputs": [],
   "source": [
    "plt.plot(rewards_epsi_0_1, label = \"0.1\")\n",
    "plt.plot(rewards_epsi_0_01, label = \"0.01\")\n",
    "plt.plot(rewards_epsi_0, label = \"0.0\")\n",
    "plt.legend()\n",
    "plt.show()"
   ]
  },
  {
   "cell_type": "code",
   "execution_count": null,
   "metadata": {},
   "outputs": [],
   "source": []
  }
 ],
 "metadata": {
  "interpreter": {
   "hash": "f1ee6bcbd3c9e9e8f8f3431817d7352b6cd81c0ba159f8ac4b2910b8d826861d"
  },
  "kernelspec": {
   "display_name": "Python 3.9.5 ('flyte_Py3.9')",
   "language": "python",
   "name": "python3"
  },
  "language_info": {
   "codemirror_mode": {
    "name": "ipython",
    "version": 3
   },
   "file_extension": ".py",
   "mimetype": "text/x-python",
   "name": "python",
   "nbconvert_exporter": "python",
   "pygments_lexer": "ipython3",
   "version": "3.9.5"
  },
  "orig_nbformat": 4
 },
 "nbformat": 4,
 "nbformat_minor": 2
}
